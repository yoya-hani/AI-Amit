{
 "cells": [
  {
   "cell_type": "code",
   "execution_count": 2,
   "id": "f4fe5887-7d70-4590-a594-2f5667209495",
   "metadata": {},
   "outputs": [],
   "source": [
    "#Write a NumPy program to test whether none of the elements of a given array is zero.#"
   ]
  },
  {
   "cell_type": "code",
   "execution_count": 3,
   "id": "a179e966-663b-4147-9a52-1fdcc8569a59",
   "metadata": {},
   "outputs": [],
   "source": [
    "import numpy as np"
   ]
  },
  {
   "cell_type": "code",
   "execution_count": 4,
   "id": "6bfb353f-8401-4700-b8fa-5a36743f171f",
   "metadata": {},
   "outputs": [],
   "source": [
    "def zero_count(arr):\n",
    "    arr=np.array(arr)\n",
    "    count = np.count_nonzero(arr)\n",
    "    return True if (arr.size-count)>0 else False"
   ]
  },
  {
   "cell_type": "code",
   "execution_count": 5,
   "id": "7c603f48-9c0d-4b6c-b50d-b59eb221a1f8",
   "metadata": {},
   "outputs": [
    {
     "data": {
      "text/plain": [
       "False"
      ]
     },
     "execution_count": 5,
     "metadata": {},
     "output_type": "execute_result"
    }
   ],
   "source": [
    "zero_count([[1,2,3],[4,5,6],[7,8,9]])"
   ]
  },
  {
   "cell_type": "code",
   "execution_count": 6,
   "id": "028d6299-1db6-44c6-b26c-c92c36d9a983",
   "metadata": {},
   "outputs": [],
   "source": [
    "#Write a NumPy program to test whether any of the elements of a given array is non-zero."
   ]
  },
  {
   "cell_type": "code",
   "execution_count": 7,
   "id": "c7b81761-4383-4fd8-83d7-b25bb0d4cdaa",
   "metadata": {},
   "outputs": [],
   "source": [
    "def nonzero_count(arr):\n",
    "    arr=np.array(arr)\n",
    "    count = np.count_nonzero(arr)\n",
    "    return True if count>0 else False"
   ]
  },
  {
   "cell_type": "code",
   "execution_count": 8,
   "id": "e3c68dce-a94a-4309-8813-6cfb70676ca9",
   "metadata": {},
   "outputs": [
    {
     "data": {
      "text/plain": [
       "False"
      ]
     },
     "execution_count": 8,
     "metadata": {},
     "output_type": "execute_result"
    }
   ],
   "source": [
    "nonzero_count([[0,0,0],[0,0,0],[0,0,0]])"
   ]
  },
  {
   "cell_type": "code",
   "execution_count": 9,
   "id": "02f65894-5ed0-4eb1-b1c5-4ef5e9856826",
   "metadata": {},
   "outputs": [],
   "source": [
    "#Write a NumPy program to create an element-wise comparison (equal, equal within a tolerance) of two given"
   ]
  },
  {
   "cell_type": "code",
   "execution_count": 10,
   "id": "e156d4e7-8dc9-4c37-ad44-5e47a85b47d6",
   "metadata": {},
   "outputs": [
    {
     "name": "stdout",
     "output_type": "stream",
     "text": [
      "Matrices are not equal element wise\n"
     ]
    }
   ],
   "source": [
    "arr1 = np.array([[1,2,3],[4,5,6],[7,8,9]])\n",
    "arr2 = np.array([[1,2,3],[4,5,9],[7,8,9]])\n",
    "assert arr1.shape == arr2.shape, 'Matrices should have same size'\n",
    "m,n = arr1.shape\n",
    "count = 0\n",
    "for i in range (m):\n",
    "    for j in range (n):\n",
    "        if arr1[i][j] == arr2[i][j]:\n",
    "            count+=1\n",
    "if count == arr1.size:\n",
    "    print('Matrices are equal element wise')\n",
    "else:\n",
    "    print('Matrices are not equal element wise')\n",
    "        \n"
   ]
  },
  {
   "cell_type": "code",
   "execution_count": 11,
   "id": "78378dc6-fe45-48c9-93fa-22f85afbd294",
   "metadata": {},
   "outputs": [],
   "source": [
    "#Write a NumPy program to create an array of 10 zeros,10 ones, 10 fives"
   ]
  },
  {
   "cell_type": "code",
   "execution_count": 12,
   "id": "636e5230-f8b9-497d-865b-0c37e24d4416",
   "metadata": {},
   "outputs": [],
   "source": [
    "a= np.zeros([10,1])"
   ]
  },
  {
   "cell_type": "code",
   "execution_count": 13,
   "id": "50d87a01-f2d9-4972-8b4b-c3e44807d3d7",
   "metadata": {},
   "outputs": [],
   "source": [
    "b= np.ones([10,1])"
   ]
  },
  {
   "cell_type": "code",
   "execution_count": 14,
   "id": "0a2589fc-d240-45d2-bd5a-83550c35218c",
   "metadata": {},
   "outputs": [],
   "source": [
    "c=b*5"
   ]
  },
  {
   "cell_type": "code",
   "execution_count": 15,
   "id": "c0eee048-0942-4bb5-926f-fc17d1f1f21e",
   "metadata": {},
   "outputs": [],
   "source": [
    "d=np.vstack((a,b,c))"
   ]
  },
  {
   "cell_type": "code",
   "execution_count": 16,
   "id": "30c55b9d-fc1e-4c3f-9ea5-d452dfcd5d50",
   "metadata": {},
   "outputs": [
    {
     "name": "stdout",
     "output_type": "stream",
     "text": [
      "[[0.]\n",
      " [0.]\n",
      " [0.]\n",
      " [0.]\n",
      " [0.]\n",
      " [0.]\n",
      " [0.]\n",
      " [0.]\n",
      " [0.]\n",
      " [0.]\n",
      " [1.]\n",
      " [1.]\n",
      " [1.]\n",
      " [1.]\n",
      " [1.]\n",
      " [1.]\n",
      " [1.]\n",
      " [1.]\n",
      " [1.]\n",
      " [1.]\n",
      " [5.]\n",
      " [5.]\n",
      " [5.]\n",
      " [5.]\n",
      " [5.]\n",
      " [5.]\n",
      " [5.]\n",
      " [5.]\n",
      " [5.]\n",
      " [5.]]\n"
     ]
    }
   ],
   "source": [
    "print(d)"
   ]
  },
  {
   "cell_type": "code",
   "execution_count": 17,
   "id": "dfc914af-8109-49d5-a549-4ae6c1ceca1e",
   "metadata": {},
   "outputs": [],
   "source": [
    "#Write a NumPy program to create an array of the integers from 30 to 70."
   ]
  },
  {
   "cell_type": "code",
   "execution_count": 18,
   "id": "1b396c19-9421-4cde-8850-58394a7648c5",
   "metadata": {},
   "outputs": [],
   "source": [
    "arr= np.arange(30,70)"
   ]
  },
  {
   "cell_type": "code",
   "execution_count": 19,
   "id": "5e3f8a06-8279-4b06-86ad-472d6e478843",
   "metadata": {},
   "outputs": [],
   "source": [
    "#Write a NumPy program to create a 3x3 identity matrix"
   ]
  },
  {
   "cell_type": "code",
   "execution_count": 20,
   "id": "93d6838b-1c80-4c60-acde-0abb9dcb5088",
   "metadata": {},
   "outputs": [
    {
     "name": "stdout",
     "output_type": "stream",
     "text": [
      "[[1. 0. 0.]\n",
      " [0. 1. 0.]\n",
      " [0. 0. 1.]]\n"
     ]
    }
   ],
   "source": [
    "eye=np.eye(3)\n",
    "print(eye)"
   ]
  },
  {
   "cell_type": "code",
   "execution_count": 21,
   "id": "df071c85-3ade-4d2d-90ad-d4621dc6170a",
   "metadata": {},
   "outputs": [],
   "source": [
    "#Write a NumPy program to generate a random number between 0 and 1"
   ]
  },
  {
   "cell_type": "code",
   "execution_count": 22,
   "id": "072f3490-30c9-46d1-babf-83188e67a01a",
   "metadata": {},
   "outputs": [
    {
     "name": "stdout",
     "output_type": "stream",
     "text": [
      "[0.06562851]\n"
     ]
    }
   ],
   "source": [
    "rand=np.random.rand(1)\n",
    "print(rand)"
   ]
  },
  {
   "cell_type": "code",
   "execution_count": 23,
   "id": "bdbe6291-2d6c-4dc5-8b6c-1f4ac6deabcf",
   "metadata": {},
   "outputs": [],
   "source": [
    "#Write a NumPy program to generate an array of 15 random numbers from a standard normal distribution"
   ]
  },
  {
   "cell_type": "code",
   "execution_count": 24,
   "id": "a94d49ae-9da6-47e0-aa3e-6bb952a09c84",
   "metadata": {},
   "outputs": [
    {
     "name": "stdout",
     "output_type": "stream",
     "text": [
      "[[0.94850993]\n",
      " [0.169244  ]\n",
      " [0.10801009]\n",
      " [0.701349  ]\n",
      " [0.2454789 ]\n",
      " [0.2162114 ]\n",
      " [0.45224383]\n",
      " [0.87788805]\n",
      " [0.62469222]\n",
      " [0.69964932]\n",
      " [0.65063636]\n",
      " [0.84087273]\n",
      " [0.68382747]\n",
      " [0.4058886 ]\n",
      " [0.56109483]]\n"
     ]
    }
   ],
   "source": [
    "rand=np.random.rand(15,1)\n",
    "print(rand)"
   ]
  },
  {
   "cell_type": "code",
   "execution_count": 25,
   "id": "9635caba-1654-42d1-ac5c-380864197d85",
   "metadata": {},
   "outputs": [],
   "source": [
    "#Write a NumPy program to create a vector with values ranging from 15 to 55 and print all values except the first and last."
   ]
  },
  {
   "cell_type": "code",
   "execution_count": 29,
   "id": "6e2f1b1f-81a4-495c-9fcb-5cffc91bad96",
   "metadata": {},
   "outputs": [],
   "source": [
    "arr= np.arange(15,56)"
   ]
  },
  {
   "cell_type": "code",
   "execution_count": 34,
   "id": "95c4038c-8157-4545-8de7-206468bd8f90",
   "metadata": {},
   "outputs": [
    {
     "name": "stdout",
     "output_type": "stream",
     "text": [
      "16\n",
      "17\n",
      "18\n",
      "19\n",
      "20\n",
      "21\n",
      "22\n",
      "23\n",
      "24\n",
      "25\n",
      "26\n",
      "27\n",
      "28\n",
      "29\n",
      "30\n",
      "31\n",
      "32\n",
      "33\n",
      "34\n",
      "35\n",
      "36\n",
      "37\n",
      "38\n",
      "39\n",
      "40\n",
      "41\n",
      "42\n",
      "43\n",
      "44\n",
      "45\n",
      "46\n",
      "47\n",
      "48\n",
      "49\n",
      "50\n",
      "51\n",
      "52\n",
      "53\n",
      "54\n"
     ]
    }
   ],
   "source": [
    "for i in range(arr[1],arr[-1]):\n",
    "    print(i)"
   ]
  },
  {
   "cell_type": "code",
   "execution_count": 35,
   "id": "d3f975f9-60bd-4fd4-9a0b-75f94852f8da",
   "metadata": {},
   "outputs": [],
   "source": [
    "#Write a NumPy program to create a vector of length 5 filled with arbitrary integers from 0 to 10"
   ]
  },
  {
   "cell_type": "code",
   "execution_count": 39,
   "id": "99f0447a-a04a-4797-8838-7983e110c195",
   "metadata": {},
   "outputs": [
    {
     "name": "stdout",
     "output_type": "stream",
     "text": [
      "[9 5 6 7 6]\n"
     ]
    }
   ],
   "source": [
    "x = np.random.randint(0,11,5)\n",
    "print(x)"
   ]
  },
  {
   "cell_type": "code",
   "execution_count": null,
   "id": "68433c8a-bd6a-4d31-92ae-fc3c32d7f867",
   "metadata": {},
   "outputs": [],
   "source": [
    "#Write a NumPy program to create a 10x10 matrix, in which the elements on the borders will be equal to 1, and inside 0."
   ]
  },
  {
   "cell_type": "code",
   "execution_count": 50,
   "id": "7c8e93e1-a1a4-4bdd-8e8a-3228e8f3987d",
   "metadata": {},
   "outputs": [],
   "source": [
    "a=np.zeros([10,10])"
   ]
  },
  {
   "cell_type": "code",
   "execution_count": 51,
   "id": "3e44024b-4daa-40bc-8517-ef9d94b3d0f3",
   "metadata": {},
   "outputs": [],
   "source": [
    "a[0]=1"
   ]
  },
  {
   "cell_type": "code",
   "execution_count": 52,
   "id": "aae2e6d7-591e-40b9-b19b-356954999e55",
   "metadata": {},
   "outputs": [],
   "source": [
    "a[9]=1"
   ]
  },
  {
   "cell_type": "code",
   "execution_count": 54,
   "id": "08748cfa-490a-4e13-a0ad-1f7ef79fb164",
   "metadata": {},
   "outputs": [],
   "source": [
    "a[:,0]=1"
   ]
  },
  {
   "cell_type": "code",
   "execution_count": 56,
   "id": "866bd684-9f79-4bf8-9c19-e5ca8d4fd8b6",
   "metadata": {},
   "outputs": [],
   "source": [
    "a[:,9]=1"
   ]
  },
  {
   "cell_type": "code",
   "execution_count": 57,
   "id": "9647b8ad-c324-4382-b7a7-65f0d972a783",
   "metadata": {},
   "outputs": [
    {
     "name": "stdout",
     "output_type": "stream",
     "text": [
      "[[1. 1. 1. 1. 1. 1. 1. 1. 1. 1.]\n",
      " [1. 0. 0. 0. 0. 0. 0. 0. 0. 1.]\n",
      " [1. 0. 0. 0. 0. 0. 0. 0. 0. 1.]\n",
      " [1. 0. 0. 0. 0. 0. 0. 0. 0. 1.]\n",
      " [1. 0. 0. 0. 0. 0. 0. 0. 0. 1.]\n",
      " [1. 0. 0. 0. 0. 0. 0. 0. 0. 1.]\n",
      " [1. 0. 0. 0. 0. 0. 0. 0. 0. 1.]\n",
      " [1. 0. 0. 0. 0. 0. 0. 0. 0. 1.]\n",
      " [1. 0. 0. 0. 0. 0. 0. 0. 0. 1.]\n",
      " [1. 1. 1. 1. 1. 1. 1. 1. 1. 1.]]\n"
     ]
    }
   ],
   "source": [
    "print(a)"
   ]
  },
  {
   "cell_type": "code",
   "execution_count": 58,
   "id": "b2bf510a-d396-4519-8837-0e48717146f9",
   "metadata": {},
   "outputs": [],
   "source": [
    "#Write a NumPy program to create a 5x5 zero matrix with elements on the main diagonal equal to 1, 2, 3, 4, 5."
   ]
  },
  {
   "cell_type": "code",
   "execution_count": 73,
   "id": "65d207fa-6e79-4b5f-a66c-cae5997d74f4",
   "metadata": {},
   "outputs": [],
   "source": [
    "\n",
    "M=np.diag([1,2,3,4,5])"
   ]
  },
  {
   "cell_type": "code",
   "execution_count": 74,
   "id": "a7c6c7ea-de99-4500-b2b5-645c17364e89",
   "metadata": {},
   "outputs": [
    {
     "name": "stdout",
     "output_type": "stream",
     "text": [
      "[[1 0 0 0 0]\n",
      " [0 2 0 0 0]\n",
      " [0 0 3 0 0]\n",
      " [0 0 0 4 0]\n",
      " [0 0 0 0 5]]\n"
     ]
    }
   ],
   "source": [
    "print(M)"
   ]
  }
 ],
 "metadata": {
  "kernelspec": {
   "display_name": "Python 3 (ipykernel)",
   "language": "python",
   "name": "python3"
  },
  "language_info": {
   "codemirror_mode": {
    "name": "ipython",
    "version": 3
   },
   "file_extension": ".py",
   "mimetype": "text/x-python",
   "name": "python",
   "nbconvert_exporter": "python",
   "pygments_lexer": "ipython3",
   "version": "3.9.13"
  }
 },
 "nbformat": 4,
 "nbformat_minor": 5
}
