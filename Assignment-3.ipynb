{
 "cells": [
  {
   "cell_type": "code",
   "execution_count": 13,
   "id": "33f35e2e-8e8d-4227-9516-c02a034fd93e",
   "metadata": {},
   "outputs": [
    {
     "name": "stdin",
     "output_type": "stream",
     "text": [
      "Player 1 enter your choice from Rock, Paper or Scissors rock\n",
      "Player 2 enter your choice from Rock, Paper or Scissors scissors\n"
     ]
    },
    {
     "name": "stdout",
     "output_type": "stream",
     "text": [
      "Player 1 won\n",
      "ROCK SCISSORS\n"
     ]
    }
   ],
   "source": [
    "def game(demo1,demo2):\n",
    "    \n",
    "    if demo1 == 'ROCK'and demo2 == 'PAPER':\n",
    "        print('Player 2 won')\n",
    "    elif demo1 == 'ROCK'and demo2 == 'SCISSORS':\n",
    "        print('Player 1 won')\n",
    "    elif demo1 == 'ROCK'and demo2 == 'ROCK':\n",
    "        print('tie')\n",
    "    elif demo1 == 'PAPER'and demo2 == 'ROCK':\n",
    "        print('Player 1 won')\n",
    "    elif demo1 == 'PAPER'and demo2 == 'SCISSORS':\n",
    "        print('Player 2 won')\n",
    "    elif demo1 == 'PAPER'and demo2 == 'PAPER':\n",
    "        print('tie')\n",
    "    elif demo1 == 'SCISSORS'and demo2 == 'PAPER':\n",
    "        print('Player 1 won')\n",
    "    elif demo1 == 'SCISSORS'and demo2 == 'ROCK':\n",
    "        print('Player 2 won')\n",
    "    elif demo1 == 'SCISSORS'and demo2 == 'SCISSORS':\n",
    "        print('tie')\n",
    "    else:\n",
    "        print('invalid input')\n",
    "x=input('Player 1 enter your choice from Rock, Paper or Scissors')\n",
    "x=x.upper()\n",
    "y = y=input('Player 2 enter your choice from Rock, Paper or Scissors')\n",
    "y = y.upper()\n",
    "game(x,y)\n",
    "\n",
    "\n",
    "\n",
    "\n",
    "\n",
    "        \n",
    "    "
   ]
  },
  {
   "cell_type": "code",
   "execution_count": null,
   "id": "728a0e7f-50ad-43c6-b4d4-984aa4f80e10",
   "metadata": {},
   "outputs": [],
   "source": []
  }
 ],
 "metadata": {
  "kernelspec": {
   "display_name": "Python 3 (ipykernel)",
   "language": "python",
   "name": "python3"
  },
  "language_info": {
   "codemirror_mode": {
    "name": "ipython",
    "version": 3
   },
   "file_extension": ".py",
   "mimetype": "text/x-python",
   "name": "python",
   "nbconvert_exporter": "python",
   "pygments_lexer": "ipython3",
   "version": "3.9.13"
  }
 },
 "nbformat": 4,
 "nbformat_minor": 5
}
