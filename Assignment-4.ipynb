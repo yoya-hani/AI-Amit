{
 "cells": [
  {
   "cell_type": "code",
   "execution_count": 1,
   "id": "50cdfbf5",
   "metadata": {},
   "outputs": [],
   "source": [
    "class game:\n",
    "    \n",
    "    help = 'Please Select an input'\n",
    "    \n",
    "    def __init__(self):\n",
    "        pass\n",
    "    def car(self,joe):\n",
    "        self.joe = joe\n",
    "        if self.joe == 'Start':\n",
    "            print('Im ready to go')\n",
    "        elif self.joe =='Stop':\n",
    "            print('Car Stop')\n",
    "        elif self.joe == 'Quit':\n",
    "            print('Game Stopped')\n",
    "        else:\n",
    "            print('invalid')\n",
    "        \n",
    "    def mult(self,num):\n",
    "        for i in range(30):\n",
    "            print(i*num)\n",
    "           "
   ]
  },
  {
   "cell_type": "code",
   "execution_count": 6,
   "id": "8058044d",
   "metadata": {},
   "outputs": [],
   "source": [
    "x = game()"
   ]
  },
  {
   "cell_type": "code",
   "execution_count": 7,
   "id": "37a5b6db",
   "metadata": {},
   "outputs": [
    {
     "name": "stdout",
     "output_type": "stream",
     "text": [
      "Im ready to go\n"
     ]
    }
   ],
   "source": [
    "x.car('Start')"
   ]
  },
  {
   "cell_type": "code",
   "execution_count": 9,
   "id": "1bca2de5",
   "metadata": {},
   "outputs": [
    {
     "name": "stdout",
     "output_type": "stream",
     "text": [
      "Car Stop\n"
     ]
    }
   ],
   "source": [
    "x.car('Stop')"
   ]
  },
  {
   "cell_type": "code",
   "execution_count": 10,
   "id": "e5476ee5",
   "metadata": {},
   "outputs": [
    {
     "name": "stdout",
     "output_type": "stream",
     "text": [
      "0\n",
      "10\n",
      "20\n",
      "30\n",
      "40\n",
      "50\n",
      "60\n",
      "70\n",
      "80\n",
      "90\n",
      "100\n",
      "110\n",
      "120\n",
      "130\n",
      "140\n",
      "150\n",
      "160\n",
      "170\n",
      "180\n",
      "190\n",
      "200\n",
      "210\n",
      "220\n",
      "230\n",
      "240\n",
      "250\n",
      "260\n",
      "270\n",
      "280\n",
      "290\n"
     ]
    }
   ],
   "source": [
    "x.mult(10)"
   ]
  },
  {
   "cell_type": "code",
   "execution_count": null,
   "id": "31772677",
   "metadata": {},
   "outputs": [],
   "source": []
  }
 ],
 "metadata": {
  "kernelspec": {
   "display_name": "Python 3 (ipykernel)",
   "language": "python",
   "name": "python3"
  },
  "language_info": {
   "codemirror_mode": {
    "name": "ipython",
    "version": 3
   },
   "file_extension": ".py",
   "mimetype": "text/x-python",
   "name": "python",
   "nbconvert_exporter": "python",
   "pygments_lexer": "ipython3",
   "version": "3.9.13"
  }
 },
 "nbformat": 4,
 "nbformat_minor": 5
}
